{
 "cells": [
  {
   "cell_type": "code",
   "execution_count": 13,
   "metadata": {},
   "outputs": [],
   "source": [
    "import numpy as np\n",
    "import pandas as pd\n",
    "import matplotlib.pyplot as plt\n",
    "import random\n",
    "import os"
   ]
  },
  {
   "cell_type": "markdown",
   "metadata": {},
   "source": [
    "## Data Pre-processing"
   ]
  },
  {
   "cell_type": "code",
   "execution_count": 37,
   "metadata": {
    "scrolled": true
   },
   "outputs": [
    {
     "name": "stdout",
     "output_type": "stream",
     "text": [
      "Data imported successfully\n"
     ]
    },
    {
     "data": {
      "text/html": [
       "<div>\n",
       "<style scoped>\n",
       "    .dataframe tbody tr th:only-of-type {\n",
       "        vertical-align: middle;\n",
       "    }\n",
       "\n",
       "    .dataframe tbody tr th {\n",
       "        vertical-align: top;\n",
       "    }\n",
       "\n",
       "    .dataframe thead th {\n",
       "        text-align: right;\n",
       "    }\n",
       "</style>\n",
       "<table border=\"1\" class=\"dataframe\">\n",
       "  <thead>\n",
       "    <tr style=\"text-align: right;\">\n",
       "      <th></th>\n",
       "      <th>A</th>\n",
       "      <th>B</th>\n",
       "    </tr>\n",
       "  </thead>\n",
       "  <tbody>\n",
       "    <tr>\n",
       "      <th>0</th>\n",
       "      <td>5.5277</td>\n",
       "      <td>9.1302</td>\n",
       "    </tr>\n",
       "    <tr>\n",
       "      <th>1</th>\n",
       "      <td>8.5186</td>\n",
       "      <td>13.6620</td>\n",
       "    </tr>\n",
       "    <tr>\n",
       "      <th>2</th>\n",
       "      <td>7.0032</td>\n",
       "      <td>11.8540</td>\n",
       "    </tr>\n",
       "    <tr>\n",
       "      <th>3</th>\n",
       "      <td>5.8598</td>\n",
       "      <td>6.8233</td>\n",
       "    </tr>\n",
       "    <tr>\n",
       "      <th>4</th>\n",
       "      <td>8.3829</td>\n",
       "      <td>11.8860</td>\n",
       "    </tr>\n",
       "    <tr>\n",
       "      <th>5</th>\n",
       "      <td>7.4764</td>\n",
       "      <td>4.3483</td>\n",
       "    </tr>\n",
       "    <tr>\n",
       "      <th>6</th>\n",
       "      <td>8.5781</td>\n",
       "      <td>12.0000</td>\n",
       "    </tr>\n",
       "    <tr>\n",
       "      <th>7</th>\n",
       "      <td>6.4862</td>\n",
       "      <td>6.5987</td>\n",
       "    </tr>\n",
       "    <tr>\n",
       "      <th>8</th>\n",
       "      <td>5.0546</td>\n",
       "      <td>3.8166</td>\n",
       "    </tr>\n",
       "    <tr>\n",
       "      <th>9</th>\n",
       "      <td>5.7107</td>\n",
       "      <td>3.2522</td>\n",
       "    </tr>\n",
       "  </tbody>\n",
       "</table>\n",
       "</div>"
      ],
      "text/plain": [
       "        A        B\n",
       "0  5.5277   9.1302\n",
       "1  8.5186  13.6620\n",
       "2  7.0032  11.8540\n",
       "3  5.8598   6.8233\n",
       "4  8.3829  11.8860\n",
       "5  7.4764   4.3483\n",
       "6  8.5781  12.0000\n",
       "7  6.4862   6.5987\n",
       "8  5.0546   3.8166\n",
       "9  5.7107   3.2522"
      ]
     },
     "execution_count": 37,
     "metadata": {},
     "output_type": "execute_result"
    }
   ],
   "source": [
    "s_data =pd.read_csv(\"house_prices.txt\" , sep=\",\", header=0,\n",
    "                             names=[\"A\", \"B\"])\n",
    "print(\"Data imported successfully\")\n",
    "s_data.head(10)"
   ]
  },
  {
   "cell_type": "code",
   "execution_count": 48,
   "metadata": {},
   "outputs": [
    {
     "name": "stdout",
     "output_type": "stream",
     "text": [
      "[ 9.1302  13.662   11.854    6.8233  11.886    4.3483  12.       6.5987\n",
      "  3.8166   3.2522  15.505    3.1551   7.2258   0.71618  3.5129   5.3048\n",
      "  0.56077  3.6518   5.3893   3.1386  21.767    4.263    5.1875   3.0825\n",
      " 22.638   13.501    7.0467  14.692   24.147   -1.22     5.9966  12.134\n",
      "  1.8495   6.5426   4.5623   4.1164   3.3928  10.117    5.4974   0.55657\n",
      "  3.9115   5.3854   2.4406   6.7318   1.0463   5.1337   1.844    8.0043\n",
      "  1.0179   6.7504   1.8396   4.2885   4.9981   1.4233  -1.4211   2.4756\n",
      "  4.6042   3.9624   5.4141   5.1694  -0.74279 17.929   12.054   17.054\n",
      "  4.8852   5.7442   7.7754   1.0173  20.992    6.6799   4.0259   1.2784\n",
      "  3.3411  -2.6807   0.29678  3.8845   5.7014   6.7526   2.0576   0.47953\n",
      "  0.20421  0.67861  7.5435   5.3436   4.2415   6.7981   0.92695  0.152\n",
      "  2.8214   1.8451   4.2959   7.2029   1.9869   0.14454  9.0551   0.61705]\n"
     ]
    }
   ],
   "source": [
    "X=s_data.iloc[:,:-1].values\n",
    "y=s_data.iloc[:,1].values"
   ]
  },
  {
   "cell_type": "markdown",
   "metadata": {},
   "source": [
    "## Ploting the data"
   ]
  },
  {
   "cell_type": "code",
   "execution_count": 53,
   "metadata": {},
   "outputs": [
    {
     "data": {
      "text/plain": [
       "Text(0.5, 0, 'Population of City in 10,000s')"
      ]
     },
     "execution_count": 53,
     "metadata": {},
     "output_type": "execute_result"
    },
    {
     "data": {
      "image/png": "[encoded data removed]",
      "text/plain": [
       "<Figure size 432x288 with 1 Axes>"
      ]
     },
     "metadata": {
      "needs_background": "light"
     },
     "output_type": "display_data"
    }
   ],
   "source": [
    "plt.plot(X, y, 'ro', ms=10, mec='k')\n",
    "plt.ylabel('Profit in $10,000')\n",
    "plt.xlabel('Population of City in 10,000s')"
   ]
  },
  {
   "cell_type": "code",
   "execution_count": 54,
   "metadata": {},
   "outputs": [],
   "source": [
    "from sklearn.model_selection import train_test_split\n",
    "X_train,X_test,y_train,y_test=train_test_split(X,y,test_size=0.1,random_state=0)"
   ]
  },
  {
   "cell_type": "code",
   "execution_count": 55,
   "metadata": {},
   "outputs": [],
   "source": [
    "def propagate(theta, X, Y):\n",
    "    m=len(Y)\n",
    "    A=np.dot(theta,X.T)\n",
    "    cost=(1/2*m)*np.sum((A-Y)**2)\n",
    "    #Find the gradient descent\n",
    "    d_theta=(1/m)*np.dot(A-Y,X)\n",
    "    return d_theta, cost\n"
   ]
  },
  {
   "cell_type": "code",
   "execution_count": 56,
   "metadata": {},
   "outputs": [],
   "source": [
    "def optimize(theta, X, Y, num_iterations, learning_rate, print_cost=False):\n",
    "    costs = []\n",
    "    \n",
    "    for i in range(num_iterations):\n",
    "        d_theta,cost=propagate(theta, X, Y)\n",
    "        theta=theta-(learning_rate*d_theta)\n",
    "        costs.append(cost)\n",
    "    \n",
    "    return theta, d_theta, costs"
   ]
  },
  {
   "cell_type": "code",
   "execution_count": 57,
   "metadata": {},
   "outputs": [],
   "source": [
    "def predict(theta, X):\n",
    "    #w = w.reshape(X.shape[0], 1)\n",
    "    A=np.dot(theta,X.T)\n",
    "    return A"
   ]
  },
  {
   "cell_type": "code",
   "execution_count": 58,
   "metadata": {},
   "outputs": [],
   "source": [
    "def model(X_train, Y_train, X_test, Y_test, num_iterations, learning_rate, print_cost=False):\n",
    "    theta=np.zeros((2,1))\n",
    "    theta,d_theta,cost = optimize(theta, X_train, y_train, num_iterations, learning_rate, print_cost=False)\n",
    "    \n",
    "    Y_prediction_test=predict(theta,X_test)\n",
    "    Y_prediction_train=predict(theta, X_train)\n",
    "    \n",
    "    return theta"
   ]
  },
  {
   "cell_type": "markdown",
   "metadata": {},
   "source": [
    "## Prediction with the training dataset"
   ]
  },
  {
   "cell_type": "code",
   "execution_count": 59,
   "metadata": {},
   "outputs": [
    {
     "name": "stdout",
     "output_type": "stream",
     "text": [
      "[[0.79418493]\n",
      " [0.79418493]]\n"
     ]
    }
   ],
   "source": [
    "theta=model(X_train,y_train,X_test,y_test,1000,0.0001,True)\n",
    "print(theta)"
   ]
  },
  {
   "cell_type": "markdown",
   "metadata": {},
   "source": [
    "## Ploting the graph with Line of Best Fit for training data"
   ]
  },
  {
   "cell_type": "code",
   "execution_count": 60,
   "metadata": {},
   "outputs": [
    {
     "data": {
      "image/png": "[encoded data removed]",
      "text/plain": [
       "<Figure size 432x288 with 1 Axes>"
      ]
     },
     "metadata": {
      "needs_background": "light"
     },
     "output_type": "display_data"
    }
   ],
   "source": [
    "line = np.dot(X_train,theta.T)\n",
    "plt.scatter(X_train,y_train)\n",
    "plt.plot(X_train,line,color='red')\n",
    "plt.xlabel(\"Hours\",fontsize=15)\n",
    "plt.ylabel(\"Scores\",fontsize=15)\n",
    "plt.title(\"Regression line\",fontsize=10)\n",
    "plt.show()\n"
   ]
  },
  {
   "cell_type": "markdown",
   "metadata": {},
   "source": [
    "## Prediction with the test dataset"
   ]
  },
  {
   "cell_type": "code",
   "execution_count": 61,
   "metadata": {},
   "outputs": [
    {
     "name": "stdout",
     "output_type": "stream",
     "text": [
      "[[ 8.70188425  6.76423186  5.56183588  4.98287507 16.15451561  5.04760114\n",
      "   4.0742481   4.05645835  5.05014254  8.12927692]\n",
      " [ 8.70188425  6.76423186  5.56183588  4.98287507 16.15451561  5.04760114\n",
      "   4.0742481   4.05645835  5.05014254  8.12927692]]\n"
     ]
    }
   ],
   "source": [
    "Y_predicted=predict(theta,X_test)\n",
    "print(Y_predicted)"
   ]
  },
  {
   "cell_type": "markdown",
   "metadata": {},
   "source": [
    "## Ploting the graph with Line of Best Fit for test data"
   ]
  },
  {
   "cell_type": "code",
   "execution_count": 62,
   "metadata": {},
   "outputs": [
    {
     "data": {
      "image/png": "[encoded data removed]",
      "text/plain": [
       "<Figure size 432x288 with 1 Axes>"
      ]
     },
     "metadata": {
      "needs_background": "light"
     },
     "output_type": "display_data"
    }
   ],
   "source": [
    "line = np.dot(X_test,theta.T)\n",
    "plt.scatter(X_test,y_test)\n",
    "plt.plot(X_test,line,color='red')\n",
    "plt.xlabel(\"Hours\",fontsize=15)\n",
    "plt.ylabel(\"Scores\",fontsize=15)\n",
    "plt.title(\"Regression line\",fontsize=10)\n",
    "plt.show()"
   ]
  }
 ],
 "metadata": {
  "kernelspec": {
   "display_name": "Python 3",
   "language": "python",
   "name": "python3"
  },
  "language_info": {
   "codemirror_mode": {
    "name": "ipython",
    "version": 3
   },
   "file_extension": ".py",
   "mimetype": "text/x-python",
   "name": "python",
   "nbconvert_exporter": "python",
   "pygments_lexer": "ipython3",
   "version": "3.9.0"
  }
 },
 "nbformat": 4,
 "nbformat_minor": 4
}
